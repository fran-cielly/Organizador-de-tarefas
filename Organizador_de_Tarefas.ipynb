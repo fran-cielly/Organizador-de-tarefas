{
  "nbformat": 4,
  "nbformat_minor": 0,
  "metadata": {
    "colab": {
      "name": "Organizador_de_Tarefas.ipynb",
      "provenance": [],
      "collapsed_sections": [],
      "include_colab_link": true
    },
    "kernelspec": {
      "name": "python3",
      "display_name": "Python 3"
    }
  },
  "cells": [
    {
      "cell_type": "markdown",
      "metadata": {
        "id": "view-in-github",
        "colab_type": "text"
      },
      "source": [
        "<a href=\"https://colab.research.google.com/github/fran-cielly/Organizador-de-tarefas/blob/main/Organizador_de_Tarefas.ipynb\" target=\"_parent\"><img src=\"https://colab.research.google.com/assets/colab-badge.svg\" alt=\"Open In Colab\"/></a>"
      ]
    },
    {
      "cell_type": "markdown",
      "metadata": {
        "id": "a5FrHxcuVW4e"
      },
      "source": [
        "# 📚 📓 Organizador de Tarefas : \n",
        "### Com esse programa, temos o objetivo de ajudar os estudantes a organizar melhor sua vida acadêmica na UFABC, por meio de um planejamento mais proveitoso e eficiente.\n"
      ]
    },
    {
      "cell_type": "markdown",
      "metadata": {
        "id": "QoH2fcgr-LeU"
      },
      "source": [
        "### 🗃️ Antes de tudo, vamos conectar o programa com a pasta no drive\n"
      ]
    },
    {
      "cell_type": "code",
      "metadata": {
        "id": "OClJu-oPannH",
        "cellView": "form",
        "colab": {
          "base_uri": "https://localhost:8080/"
        },
        "outputId": "7ce26d31-84f7-4c14-a03b-e085dc66daa7"
      },
      "source": [
        "#@title ⬅️ Aperte aqui para permitir acesso ao drive\n",
        "#@markdown \n",
        "from google.colab import drive\n",
        "drive.mount('/content/drive')"
      ],
      "execution_count": null,
      "outputs": [
        {
          "output_type": "stream",
          "text": [
            "Mounted at /content/drive\n"
          ],
          "name": "stdout"
        }
      ]
    },
    {
      "cell_type": "markdown",
      "metadata": {
        "id": "J9w3Wzq18GpU"
      },
      "source": [
        "## **❗️ Lembre-se:**"
      ]
    },
    {
      "cell_type": "code",
      "metadata": {
        "id": "fmrra9VhP2N1",
        "cellView": "form"
      },
      "source": [
        "#@title **⬅️ Aperte aqui para executar a célula**\n",
        "#@markdown **Uma observação importante é sempre\n",
        "#@markdown executar essa célula antes de utilizar o programa,\n",
        "#@markdown para que os dados armazenados possam ser resgatados! \n",
        "#@markdown 😉**\n",
        "import pandas as pd\n",
        "\n",
        "#resgatando os dados armazenados\n",
        "tb_disciplina = \"/content/drive/MyDrive/Projeto/disciplina.csv\"  \n",
        "tb_tarefa = \"/content/drive/MyDrive/Projeto/tarefa.csv\" \n",
        "\n",
        "dfd = pd.read_csv(tb_disciplina)\n",
        "dft = pd.read_csv(tb_tarefa)\n",
        "\n",
        "dft_ordem = dft.sort_values(by=['data', 'complexidade'])\n",
        "dfd_ordenados = dfd.sort_values(by ='nome')\n",
        "dft_ordemNF = dft_ordem\n",
        "df_disEatv = dft_ordem.sort_values(by=['data','complexidade']).groupby(['disciplina','nome', 'data']).sum()\n",
        "dft_somahorX = dft_ordem.groupby('disciplina').sum()"
      ],
      "execution_count": null,
      "outputs": []
    },
    {
      "cell_type": "markdown",
      "metadata": {
        "id": "IfTGEmbLWBC5"
      },
      "source": [
        "###  📂 Primeiro, cadastre suas disciplinas. "
      ]
    },
    {
      "cell_type": "code",
      "metadata": {
        "colab": {
          "base_uri": "https://localhost:8080/"
        },
        "id": "ypoBYfg7P2SX",
        "outputId": "05010145-7176-446d-bcd2-206c173ea077"
      },
      "source": [
        "#@title Cadastrar uma disciplina { vertical-output: true, display-mode: \"both\" }\n",
        "\n",
        "#Cadastrar disciplinas na tabela\n",
        "import pandas as pd \n",
        "\n",
        "#entradas\n",
        "nome = \"BCC\" #@param {type:\"string\"}\n",
        "T = 0 #@param {type:\"slider\", min:0, max:10, step:1}\n",
        "P = 2 #@param {type:\"slider\", min:0, max:10, step:1}\n",
        "I = 2 #@param {type:\"slider\", min:0, max:10, step:1}\n",
        "\n",
        "\n",
        "tb_disciplina = \"/content/drive/MyDrive/Projeto/disciplina.csv\"  \n",
        "dfd = pd.read_csv(tb_disciplina)\n",
        "disciplinas = dfd[\"nome\"].values\n",
        "\n",
        "#verificando se já foi cadastrada uma disciplina com esse nome\n",
        "if any(nome in n for n in disciplinas):\n",
        "  print(\"Já existe uma disciplina cadastrada com esse nome\")\n",
        "\n",
        "else:\n",
        "  #Salvando na tabela disciplina.csv\n",
        "\n",
        "  df = pd.DataFrame({'nome':[nome],'T':[T],'P':[P],'I':[I]})\n",
        "  df.to_csv (tb_disciplina,  mode='a', index = False, header=False)\n",
        "\n",
        "  print(\"Disciplina cadastrada com sucesso!\")\n",
        "\n"
      ],
      "execution_count": null,
      "outputs": [
        {
          "output_type": "stream",
          "text": [
            "Já existe uma disciplina cadastrada com esse nome\n"
          ],
          "name": "stdout"
        }
      ]
    },
    {
      "cell_type": "markdown",
      "metadata": {
        "id": "mdd5jY_iP8ji"
      },
      "source": [
        "###  🗃️ Execute a célula para ver as disciplinas cadastradas e suas respectivas TPI"
      ]
    },
    {
      "cell_type": "code",
      "metadata": {
        "colab": {
          "base_uri": "https://localhost:8080/",
          "height": 204
        },
        "id": "KruzlYAXP8SK",
        "outputId": "ccb4056f-b487-43a2-d331-45466f4ec904"
      },
      "source": [
        "#Visualizar disciplinas cadastradas\n",
        "import pandas as pd\n",
        "\n",
        "tb_disciplina = \"/content/drive/MyDrive/Projeto/disciplina.csv\"\n",
        "dfd = pd.read_csv(tb_disciplina) \n",
        "\n",
        "#ordenando em ordem alfabética\n",
        "dfd_ordenados = dfd.sort_values(by ='nome')\n",
        "display(dfd_ordenados)"
      ],
      "execution_count": null,
      "outputs": [
        {
          "output_type": "display_data",
          "data": {
            "text/html": [
              "<div>\n",
              "<style scoped>\n",
              "    .dataframe tbody tr th:only-of-type {\n",
              "        vertical-align: middle;\n",
              "    }\n",
              "\n",
              "    .dataframe tbody tr th {\n",
              "        vertical-align: top;\n",
              "    }\n",
              "\n",
              "    .dataframe thead th {\n",
              "        text-align: right;\n",
              "    }\n",
              "</style>\n",
              "<table border=\"1\" class=\"dataframe\">\n",
              "  <thead>\n",
              "    <tr style=\"text-align: right;\">\n",
              "      <th></th>\n",
              "      <th>nome</th>\n",
              "      <th>T</th>\n",
              "      <th>P</th>\n",
              "      <th>I</th>\n",
              "    </tr>\n",
              "  </thead>\n",
              "  <tbody>\n",
              "    <tr>\n",
              "      <th>0</th>\n",
              "      <td>BCC</td>\n",
              "      <td>2</td>\n",
              "      <td>4</td>\n",
              "      <td>2</td>\n",
              "    </tr>\n",
              "    <tr>\n",
              "      <th>3</th>\n",
              "      <td>BCE</td>\n",
              "      <td>3</td>\n",
              "      <td>0</td>\n",
              "      <td>4</td>\n",
              "    </tr>\n",
              "    <tr>\n",
              "      <th>4</th>\n",
              "      <td>BM</td>\n",
              "      <td>3</td>\n",
              "      <td>1</td>\n",
              "      <td>4</td>\n",
              "    </tr>\n",
              "    <tr>\n",
              "      <th>1</th>\n",
              "      <td>EDTV</td>\n",
              "      <td>4</td>\n",
              "      <td>0</td>\n",
              "      <td>2</td>\n",
              "    </tr>\n",
              "    <tr>\n",
              "      <th>2</th>\n",
              "      <td>EM</td>\n",
              "      <td>3</td>\n",
              "      <td>0</td>\n",
              "      <td>4</td>\n",
              "    </tr>\n",
              "  </tbody>\n",
              "</table>\n",
              "</div>"
            ],
            "text/plain": [
              "   nome  T  P  I\n",
              "0   BCC  2  4  2\n",
              "3   BCE  3  0  4\n",
              "4    BM  3  1  4\n",
              "1  EDTV  4  0  2\n",
              "2    EM  3  0  4"
            ]
          },
          "metadata": {
            "tags": []
          }
        }
      ]
    },
    {
      "cell_type": "markdown",
      "metadata": {
        "id": "CPWVLUuxWKHw"
      },
      "source": [
        "###  📁 Agora, cadastre todas as suas tarefas"
      ]
    },
    {
      "cell_type": "code",
      "metadata": {
        "id": "aPhNfxS7P2Qc",
        "colab": {
          "base_uri": "https://localhost:8080/"
        },
        "outputId": "b7c9b6c3-cfe8-4200-af65-ba3099231dba"
      },
      "source": [
        "#@title Cadastrar uma tarefa { vertical-output: true, display-mode: \"both\" }\n",
        "\n",
        "#Cadastro das tarefas na tabela\n",
        "import pandas as pd\n",
        "tb_disciplina = \"/content/drive/MyDrive/Projeto/disciplina.csv\" \n",
        "tb_tarefa = \"/content/drive/MyDrive/Projeto/tarefa.csv\" \n",
        "tb_horas = \"/content/drive/MyDrive/Projeto/horas_semanais.csv\" \n",
        "\n",
        "#Buscando e mostrando o nome das disciplinas cadastradas\n",
        "\n",
        "#listando disciplinas cadastradas\n",
        "dfd = pd.read_csv(tb_disciplina)\n",
        "disciplinas = dfd[\"nome\"].values\n",
        "print(\"Disciplinas cadastradas: \", disciplinas, \"\\n\")\n",
        "\n",
        "#entradas\n",
        "disciplina = \"BCC\" #@param {type:\"string\"}\n",
        "nome = \"prova\" #@param {type:\"string\"}\n",
        "complexidade = \"3 - cerca de 1:30h\" #@param [\"1 - cerca de 30min\", \"2 - cerca de 1h\", \"3 - cerca de 1:30h\", \"4 - cerca de 2h\", \"5 - cerca de 2:30h\", \"6 - cerca de 3h\", \"7 - cerca de 4h\"]\n",
        "data = \"2020-12-14\" #@param {type:\"date\"}\n",
        "\n",
        "#convertendo complexidade de string para int\n",
        "complexidade = int(complexidade[0])\n",
        "\n",
        "#atribuindo a hora de acordo com a complexidade\n",
        "\n",
        "if (complexidade == 1):\n",
        "  hora = 0.5\n",
        "elif (complexidade == 2):\n",
        "  hora = 1.5\n",
        "elif (complexidade == 3):\n",
        "  hora = 2\n",
        "elif (complexidade == 4):\n",
        "  hora = 2.5\n",
        "elif (complexidade == 5):\n",
        "  hora = 3\n",
        "else:\n",
        "  hora = 4\n",
        "\n",
        "#verificando se todos os campos foram preenchidos\n",
        "if ((not disciplina) or (not nome) or (not data) or (not complexidade) or (not data)):\n",
        "  print(\"Preencha todos os campos para cadastrar uma tarefa\")\n",
        "\n",
        "#verificando se nome não está vazia e se aquela disciplina está cadastrada\n",
        "elif any(disciplina in n for n in disciplinas):\n",
        "\n",
        "  #salvando na tarefa.csv\n",
        "  df = pd.DataFrame({'disciplina':[disciplina], 'nome':[nome], 'data': [data], 'complexidade':[complexidade], 'hora':[hora]})\n",
        "  df.to_csv (tb_tarefa,  mode='a', index = False, header=False)\n",
        "\n",
        "  print(\"\\nTarefa cadastrada com sucesso!\")\n",
        "\n",
        "else:\n",
        "  print(\"\\nEssa disciplina não está cadastrada\")\n",
        "\n"
      ],
      "execution_count": null,
      "outputs": [
        {
          "output_type": "stream",
          "text": [
            "Disciplinas cadastradas:  ['BCC' 'EDTV' 'EM' 'BCE' 'BM'] \n",
            "\n",
            "\n",
            "Tarefa cadastrada com sucesso!\n"
          ],
          "name": "stdout"
        }
      ]
    },
    {
      "cell_type": "markdown",
      "metadata": {
        "id": "-EMBKXaVRxv5"
      },
      "source": [
        "### Aqui está a lista com todas as tarefas que se deve fazer, já organizado para você! Elas estarão todas listadas e já dispostas em uma ordem, tendo como prioridade a data de entrega e também a complexidade. \n",
        "###Essa ordem é uma sugestão a qual acredita-se ser o planejamento mais eficaz para o estudante. \n",
        "\n",
        "### Além disso, você pode ver essa lista de várias formas diferentes! É só marcar uma ou várias opções abaixo para poder visualizá-la por meio dos filtros."
      ]
    },
    {
      "cell_type": "code",
      "metadata": {
        "id": "89khOQvG87WZ",
        "colab": {
          "base_uri": "https://localhost:8080/",
          "height": 286
        },
        "cellView": "form",
        "outputId": "1f7354ea-0c70-4a8a-c7e9-234950036833"
      },
      "source": [
        "#@title   📄  Consulte a lista por meio de filtros: { vertical-output: true }\n",
        "\n",
        "Lista_completa_todas_tarefas = False #@param {type:\"boolean\"}\n",
        "Tarefas_nao_Feitas =False #@param {type:\"boolean\"}\n",
        "Tarefas_por_disciplina = False #@param {type:\"boolean\"}\n",
        "Total_horas_por_disciplinas = True #@param {type:\"boolean\"}\n",
        "\n",
        "import pandas as pd\n",
        "tb_disciplina = \"/content/drive/MyDrive/Projeto/disciplina.csv\" \n",
        "tb_tarefa = \"/content/drive/MyDrive/Projeto/tarefa.csv\" \n",
        "\n",
        "dfd = pd.read_csv(tb_disciplina) \n",
        "dft = pd.read_csv(tb_tarefa)\n",
        "dft_ordem = dft.sort_values(by=['data', 'complexidade'])\n",
        "\n",
        "if Lista_completa_todas_tarefas == True:\n",
        "  print('\\033[1m Lista com todas as tarefas na ordem sugerida para realização: \\033[0m')\n",
        "  try: \n",
        "    display(dft_ordemR.fillna('----'))\n",
        "    print('\\n')\n",
        "  except:\n",
        "    display(dft_ordem.fillna('----'))\n",
        "    print('\\n')\n",
        "\n",
        "if Tarefas_nao_Feitas == True:\n",
        "  try: \n",
        "    dft_ordemNF = dft_ordem\n",
        "  except:\n",
        "    dft_ordemNF = dft_ordemR\n",
        "  tnf = dft_ordemNF['Horas Reais'].isnull().count()\n",
        "\n",
        "  for n in range(len(dft_ordemNF)):\n",
        "    if dft_ordem.loc[n,'Horas Reais'] > 0:\n",
        "      dft_ordemNF = dft_ordemNF.drop(n)\n",
        "  print('\\033[1m Lista com as tarefas que ainda precisam ser feitas: \\033[0m')\n",
        "  \n",
        "  if tnf > 1 :\n",
        "    print('✏️ Ainda faltam', tnf,'tarefas para serem concluídas.')\n",
        "\n",
        "  elif tnf == 1:\n",
        "    print('✏️ Ainda falta', tnf,'tarefa para ser concluída.')\n",
        "    \n",
        "  elif tnf == 0:\n",
        "    print('Todas as tarefas foram concluídas!😃')\n",
        "    \n",
        "  display(dft_ordemNF.fillna('----'))\n",
        "  print('\\n')\n",
        "\n",
        "if Tarefas_por_disciplina == True:\n",
        "  print('\\033[1m Todas as tarefas de cada disciplina: \\033[0m')\n",
        "  try:\n",
        "    df_disEatv = dft_ordemR.sort_values(by=['data','complexidade']).groupby(['disciplina','nome', 'data']).sum()\n",
        "    display(df_disEatv)\n",
        "  except:\n",
        "    df_disEatv = dft_ordem.sort_values(by=['data','complexidade']).groupby(['disciplina','nome', 'data']).sum()\n",
        "    display(df_disEatv)\n",
        "  print('\\n')\n",
        "\n",
        "if Total_horas_por_disciplinas == True:\n",
        "  print('\\033[1m Total da soma das horas estimadas e horas gatas de cada disciplina:  \\033[0m')\n",
        "  try: \n",
        "    dft_somahorX = dft_ordemR.groupby('disciplina').sum()\n",
        "    display(dft_somahorX)\n",
        "    print('\\n')\n",
        "  except:\n",
        "    dft_somahorX = dft_ordem.groupby('disciplina').sum()\n",
        "    display(dft_somahorX)\n",
        "    print('\\n')\n",
        "      \n",
        "if Lista_completa_todas_tarefas == False and Tarefas_por_disciplina == False and Total_horas_por_disciplinas == False and Tarefas_nao_Feitas == False:\n",
        "  print('Nenhuma opção marcada!\\nMarque uma das opções para escolher um filtro')"
      ],
      "execution_count": null,
      "outputs": [
        {
          "output_type": "stream",
          "text": [
            "\u001b[1m Total da soma das horas estimadas e horas gatas de cada disciplina:  \u001b[0m\n"
          ],
          "name": "stdout"
        },
        {
          "output_type": "display_data",
          "data": {
            "text/html": [
              "<div>\n",
              "<style scoped>\n",
              "    .dataframe tbody tr th:only-of-type {\n",
              "        vertical-align: middle;\n",
              "    }\n",
              "\n",
              "    .dataframe tbody tr th {\n",
              "        vertical-align: top;\n",
              "    }\n",
              "\n",
              "    .dataframe thead th {\n",
              "        text-align: right;\n",
              "    }\n",
              "</style>\n",
              "<table border=\"1\" class=\"dataframe\">\n",
              "  <thead>\n",
              "    <tr style=\"text-align: right;\">\n",
              "      <th></th>\n",
              "      <th>complexidade</th>\n",
              "      <th>horas</th>\n",
              "      <th>Horas Reais</th>\n",
              "    </tr>\n",
              "    <tr>\n",
              "      <th>disciplina</th>\n",
              "      <th></th>\n",
              "      <th></th>\n",
              "      <th></th>\n",
              "    </tr>\n",
              "  </thead>\n",
              "  <tbody>\n",
              "    <tr>\n",
              "      <th>BCC</th>\n",
              "      <td>15</td>\n",
              "      <td>9.5</td>\n",
              "      <td>3.0</td>\n",
              "    </tr>\n",
              "    <tr>\n",
              "      <th>BCE</th>\n",
              "      <td>6</td>\n",
              "      <td>4.0</td>\n",
              "      <td>0.0</td>\n",
              "    </tr>\n",
              "    <tr>\n",
              "      <th>BM</th>\n",
              "      <td>5</td>\n",
              "      <td>3.0</td>\n",
              "      <td>2.0</td>\n",
              "    </tr>\n",
              "    <tr>\n",
              "      <th>EDTV</th>\n",
              "      <td>59</td>\n",
              "      <td>37.0</td>\n",
              "      <td>0.0</td>\n",
              "    </tr>\n",
              "    <tr>\n",
              "      <th>EM</th>\n",
              "      <td>3</td>\n",
              "      <td>2.0</td>\n",
              "      <td>0.0</td>\n",
              "    </tr>\n",
              "  </tbody>\n",
              "</table>\n",
              "</div>"
            ],
            "text/plain": [
              "            complexidade  horas  Horas Reais\n",
              "disciplina                                  \n",
              "BCC                   15    9.5          3.0\n",
              "BCE                    6    4.0          0.0\n",
              "BM                     5    3.0          2.0\n",
              "EDTV                  59   37.0          0.0\n",
              "EM                     3    2.0          0.0"
            ]
          },
          "metadata": {
            "tags": []
          }
        },
        {
          "output_type": "stream",
          "text": [
            "\n",
            "\n"
          ],
          "name": "stdout"
        }
      ]
    },
    {
      "cell_type": "markdown",
      "metadata": {
        "id": "JNHRNXpgTA7h"
      },
      "source": [
        "###  📑 Mas se você quiser ser um pouco mais específico, é possível buscar pelo nome da disciplina todas as tarefas e com suas respectivas informações também. Veja!"
      ]
    },
    {
      "cell_type": "code",
      "metadata": {
        "id": "yNXXz_GhP16j",
        "cellView": "form",
        "colab": {
          "base_uri": "https://localhost:8080/",
          "height": 207
        },
        "outputId": "55ac7e47-6ab1-4f8a-c622-f321b003da77"
      },
      "source": [
        "#@title Visualizar tarefas por disciplina { vertical-output: true }\n",
        "disciplina = \"BCC\" #@param {type:\"string\"}\n",
        "#Consulta das tarefas por disciplina\n",
        "\n",
        "import pandas as pd\n",
        "\n",
        "tb_tarefa = \"/content/drive/MyDrive/Projeto/tarefa.csv\" \n",
        "tb_disciplina = \"/content/drive/MyDrive/Projeto/disciplina.csv\" \n",
        "\n",
        "#listando disciplinas cadastradas\n",
        "dfd = pd.read_csv(tb_disciplina)\n",
        "disciplinas = dfd[\"nome\"].values\n",
        "#print(\"Disciplinas cadastradas: \", disciplinas, \"\\n\")\n",
        "\n",
        "#disciplina = input(\"Digite a disciplina da qual quer visualizar as tarefas: \")\n",
        "\n",
        "#verificando se a disciplina está cadastrada\n",
        "if any(disciplina in n for n in disciplinas):\n",
        "\n",
        "  dft = pd.read_csv(tb_tarefa)\n",
        "\n",
        "  #listando tarefas da disciplina digitada e ordenando pela data de entrega mais próxima\n",
        "  dft_ordem1 = dft.query(\"disciplina == '{}'\".format(disciplina))\n",
        "  dft_ordem1 = dft_ordem1.sort_values(by=['data'])\n",
        "  display(dft_ordem1.fillna('----'))\n",
        "\n",
        "  #calculando horas totais previstas\n",
        "  total_horas = dft_ordem1[\"horas\"].sum()\n",
        "  print(\"\\nTotal de horas calculadas para \",disciplina,\" previstas: \",total_horas)\n",
        "\n",
        "else:\n",
        "  print(\"Disciplina não cadastrada\")"
      ],
      "execution_count": null,
      "outputs": [
        {
          "output_type": "display_data",
          "data": {
            "text/html": [
              "<div>\n",
              "<style scoped>\n",
              "    .dataframe tbody tr th:only-of-type {\n",
              "        vertical-align: middle;\n",
              "    }\n",
              "\n",
              "    .dataframe tbody tr th {\n",
              "        vertical-align: top;\n",
              "    }\n",
              "\n",
              "    .dataframe thead th {\n",
              "        text-align: right;\n",
              "    }\n",
              "</style>\n",
              "<table border=\"1\" class=\"dataframe\">\n",
              "  <thead>\n",
              "    <tr style=\"text-align: right;\">\n",
              "      <th></th>\n",
              "      <th>disciplina</th>\n",
              "      <th>nome</th>\n",
              "      <th>data</th>\n",
              "      <th>complexidade</th>\n",
              "      <th>horas</th>\n",
              "      <th>Feito</th>\n",
              "      <th>Horas Reais</th>\n",
              "    </tr>\n",
              "  </thead>\n",
              "  <tbody>\n",
              "    <tr>\n",
              "      <th>5</th>\n",
              "      <td>BCC</td>\n",
              "      <td>atividade</td>\n",
              "      <td>2020-11-30</td>\n",
              "      <td>4</td>\n",
              "      <td>2.5</td>\n",
              "      <td>✅</td>\n",
              "      <td>3</td>\n",
              "    </tr>\n",
              "    <tr>\n",
              "      <th>6</th>\n",
              "      <td>BCC</td>\n",
              "      <td>atividade</td>\n",
              "      <td>2020-11-30</td>\n",
              "      <td>4</td>\n",
              "      <td>2.5</td>\n",
              "      <td>✅</td>\n",
              "      <td>----</td>\n",
              "    </tr>\n",
              "    <tr>\n",
              "      <th>7</th>\n",
              "      <td>BCC</td>\n",
              "      <td>atividade</td>\n",
              "      <td>2020-11-30</td>\n",
              "      <td>4</td>\n",
              "      <td>2.5</td>\n",
              "      <td>----</td>\n",
              "      <td>----</td>\n",
              "    </tr>\n",
              "    <tr>\n",
              "      <th>21</th>\n",
              "      <td>BCC</td>\n",
              "      <td>prova</td>\n",
              "      <td>2020-12-14</td>\n",
              "      <td>3</td>\n",
              "      <td>2.0</td>\n",
              "      <td>----</td>\n",
              "      <td>----</td>\n",
              "    </tr>\n",
              "  </tbody>\n",
              "</table>\n",
              "</div>"
            ],
            "text/plain": [
              "   disciplina       nome        data  complexidade  horas Feito Horas Reais\n",
              "5         BCC  atividade  2020-11-30             4    2.5     ✅           3\n",
              "6         BCC  atividade  2020-11-30             4    2.5     ✅        ----\n",
              "7         BCC  atividade  2020-11-30             4    2.5  ----        ----\n",
              "21        BCC      prova  2020-12-14             3    2.0  ----        ----"
            ]
          },
          "metadata": {
            "tags": []
          }
        },
        {
          "output_type": "stream",
          "text": [
            "\n",
            "Total de horas calculadas para  BCC  previstas:  9.5\n"
          ],
          "name": "stdout"
        }
      ]
    },
    {
      "cell_type": "markdown",
      "metadata": {
        "id": "GDHT6c2FTbyB"
      },
      "source": [
        "### ⏰ Após a realizações das tarefas na semana, registre as horas que você realmente gastou para a realização de cada tarefa. "
      ]
    },
    {
      "cell_type": "code",
      "metadata": {
        "id": "kTwYn1HJP2LM",
        "colab": {
          "base_uri": "https://localhost:8080/",
          "height": 1000
        },
        "outputId": "5e880dea-2599-4505-f74c-e55804b5377c"
      },
      "source": [
        "#Cadastro de horas de cada disciplina em cada semana\n",
        "import pandas as pd\n",
        "\n",
        "tb_disciplina = \"/content/drive/MyDrive/Projeto/disciplina.csv\" \n",
        "tb_horas = \"/content/drive/MyDrive/Projeto/horas_semanais.csv\" \n",
        "tb_tarefa = \"/content/drive/MyDrive/Projeto/tarefa.csv\" \n",
        " \n",
        "dfd = pd.read_csv(tb_disciplina)\n",
        "dft = pd.read_csv(tb_tarefa)\n",
        "\n",
        "#listando disciplinas cadastradas\n",
        "dfd = pd.read_csv(tb_disciplina)\n",
        "disciplinas = dfd[\"nome\"].values\n",
        "print(\"Disciplinas cadastradas: \", disciplinas, \"\\n\")\n",
        "\n",
        "#lendo a disciplina\n",
        "disciplina = input(\"Digite a disciplina da qual quer cadastrar as horas:\")\n",
        "dft_ordemR = dft_ordem\n",
        "\n",
        "#verificando se a disciplina está cadastrada\n",
        "if any(disciplina in d for d in disciplinas):\n",
        "\n",
        "  print(disciplina)\n",
        "\n",
        "  #listando as terefas com os index\n",
        "  chaves = dft_ordem.query(\"disciplina == '{}'\".format(disciplina)).index\n",
        "\n",
        "  for n in chaves:\n",
        "    #selecionando a tarefa de acordo com o index\n",
        "    tarefa = dft_ordem.loc[n]\n",
        "\n",
        "    #mostrando informações da tarefa\n",
        "    print(\"Nome:\",tarefa[\"nome\"])\n",
        "    print(\"Horas previstas:\",tarefa[\"horas\"])\n",
        "\n",
        "      #vendo se já fez tal tarefa\n",
        "    print(\"Se as horas dessa tarefa já foram cadastradas, apenas pressione a tecla 'Enter'.\")\n",
        "    check = input(\"Essa tarefa já foi realizada? (sim / não): \")\n",
        "    if check == 'sim':\n",
        "      #lendo as horas gastas\n",
        "      horas_gastas = float(input(\"Digite quantas horas gastou realizando essa tarefa: \"))\n",
        "      \n",
        "      #salvando na tarefa.csv\n",
        "      dft_ordem.loc[n, 'Feito'] = '✅'\n",
        "      dft_ordem.to_csv (tb_tarefa, index = False, header=True)\n",
        "      dft_ordem.loc[n, 'Horas Reais']= horas_gastas\n",
        "      print(\"\\nTempo registrado com sucesso!\\n\")\n",
        "      print('\\n')\n",
        "\n",
        "    elif check == 'não':\n",
        "      dft_ordem.loc[n, 'Feito'] = None\n",
        "      print(\"Não foi registrado o tempo dessa tarefa.\")\n",
        "      print('\\n') \n",
        "\n",
        "    #apenas continua a loop, não altera nada\n",
        "    elif check == '':\n",
        "      print('\\n')\n",
        "      continue\n",
        "\n",
        "    #caso aconteça erros de digitação\n",
        "    else:\n",
        "      print(\"Não foi possível cadastrar o tempo dessa tarefa.\")\n",
        "      print('\\n')\n",
        "\n",
        "else:\n",
        "  print(\"Disciplina não cadastrada\")\n",
        "\n",
        "\n",
        "display(dft_ordemR.fillna('----'))\n"
      ],
      "execution_count": null,
      "outputs": [
        {
          "output_type": "stream",
          "text": [
            "Disciplinas cadastradas:  ['BCC' 'EDTV' 'EM' 'BCE' 'BM'] \n",
            "\n",
            "Digite a disciplina da qual quer cadastrar as horas:BCC\n",
            "BCC\n",
            "Nome: atividade\n",
            "Horas previstas: 2.5\n",
            "Se as horas dessa tarefa já foram cadastradas, apenas pressione a tecla 'Enter'.\n",
            "Essa tarefa já foi realizada? (sim / não): \n",
            "\n",
            "\n",
            "Nome: atividade\n",
            "Horas previstas: 2.5\n",
            "Se as horas dessa tarefa já foram cadastradas, apenas pressione a tecla 'Enter'.\n",
            "Essa tarefa já foi realizada? (sim / não): \n",
            "\n",
            "\n",
            "Nome: atividade\n",
            "Horas previstas: 2.5\n",
            "Se as horas dessa tarefa já foram cadastradas, apenas pressione a tecla 'Enter'.\n",
            "Essa tarefa já foi realizada? (sim / não): \n",
            "\n",
            "\n",
            "Nome: prova\n",
            "Horas previstas: 2.0\n",
            "Se as horas dessa tarefa já foram cadastradas, apenas pressione a tecla 'Enter'.\n",
            "Essa tarefa já foi realizada? (sim / não): \n",
            "\n",
            "\n"
          ],
          "name": "stdout"
        },
        {
          "output_type": "display_data",
          "data": {
            "text/html": [
              "<div>\n",
              "<style scoped>\n",
              "    .dataframe tbody tr th:only-of-type {\n",
              "        vertical-align: middle;\n",
              "    }\n",
              "\n",
              "    .dataframe tbody tr th {\n",
              "        vertical-align: top;\n",
              "    }\n",
              "\n",
              "    .dataframe thead th {\n",
              "        text-align: right;\n",
              "    }\n",
              "</style>\n",
              "<table border=\"1\" class=\"dataframe\">\n",
              "  <thead>\n",
              "    <tr style=\"text-align: right;\">\n",
              "      <th></th>\n",
              "      <th>disciplina</th>\n",
              "      <th>nome</th>\n",
              "      <th>data</th>\n",
              "      <th>complexidade</th>\n",
              "      <th>horas</th>\n",
              "      <th>Feito</th>\n",
              "      <th>Horas Reais</th>\n",
              "    </tr>\n",
              "  </thead>\n",
              "  <tbody>\n",
              "    <tr>\n",
              "      <th>0</th>\n",
              "      <td>EDTV</td>\n",
              "      <td>auto-avaliacao</td>\n",
              "      <td>2020-11-07</td>\n",
              "      <td>2</td>\n",
              "      <td>1.5</td>\n",
              "      <td>----</td>\n",
              "      <td>----</td>\n",
              "    </tr>\n",
              "    <tr>\n",
              "      <th>1</th>\n",
              "      <td>EDTV</td>\n",
              "      <td>ativiade 2</td>\n",
              "      <td>2020-11-07</td>\n",
              "      <td>2</td>\n",
              "      <td>1.5</td>\n",
              "      <td>----</td>\n",
              "      <td>----</td>\n",
              "    </tr>\n",
              "    <tr>\n",
              "      <th>2</th>\n",
              "      <td>EM</td>\n",
              "      <td>testes 10</td>\n",
              "      <td>2020-11-07</td>\n",
              "      <td>3</td>\n",
              "      <td>2.0</td>\n",
              "      <td>✅</td>\n",
              "      <td>----</td>\n",
              "    </tr>\n",
              "    <tr>\n",
              "      <th>3</th>\n",
              "      <td>BCE</td>\n",
              "      <td>prova final</td>\n",
              "      <td>2020-11-07</td>\n",
              "      <td>6</td>\n",
              "      <td>4.0</td>\n",
              "      <td>----</td>\n",
              "      <td>----</td>\n",
              "    </tr>\n",
              "    <tr>\n",
              "      <th>4</th>\n",
              "      <td>EDTV</td>\n",
              "      <td>trabalho - divulgacao cientifica</td>\n",
              "      <td>2020-11-07</td>\n",
              "      <td>7</td>\n",
              "      <td>4.0</td>\n",
              "      <td>----</td>\n",
              "      <td>----</td>\n",
              "    </tr>\n",
              "    <tr>\n",
              "      <th>5</th>\n",
              "      <td>BCC</td>\n",
              "      <td>atividade</td>\n",
              "      <td>2020-11-30</td>\n",
              "      <td>4</td>\n",
              "      <td>2.5</td>\n",
              "      <td>✅</td>\n",
              "      <td>3</td>\n",
              "    </tr>\n",
              "    <tr>\n",
              "      <th>6</th>\n",
              "      <td>BCC</td>\n",
              "      <td>atividade</td>\n",
              "      <td>2020-11-30</td>\n",
              "      <td>4</td>\n",
              "      <td>2.5</td>\n",
              "      <td>✅</td>\n",
              "      <td>----</td>\n",
              "    </tr>\n",
              "    <tr>\n",
              "      <th>7</th>\n",
              "      <td>BCC</td>\n",
              "      <td>atividade</td>\n",
              "      <td>2020-11-30</td>\n",
              "      <td>4</td>\n",
              "      <td>2.5</td>\n",
              "      <td>----</td>\n",
              "      <td>----</td>\n",
              "    </tr>\n",
              "    <tr>\n",
              "      <th>8</th>\n",
              "      <td>EDTV</td>\n",
              "      <td>atividade</td>\n",
              "      <td>2020-11-30</td>\n",
              "      <td>4</td>\n",
              "      <td>2.5</td>\n",
              "      <td>----</td>\n",
              "      <td>----</td>\n",
              "    </tr>\n",
              "    <tr>\n",
              "      <th>9</th>\n",
              "      <td>EDTV</td>\n",
              "      <td>atividade</td>\n",
              "      <td>2020-11-30</td>\n",
              "      <td>4</td>\n",
              "      <td>2.5</td>\n",
              "      <td>----</td>\n",
              "      <td>----</td>\n",
              "    </tr>\n",
              "    <tr>\n",
              "      <th>10</th>\n",
              "      <td>EDTV</td>\n",
              "      <td>atividade</td>\n",
              "      <td>2020-11-30</td>\n",
              "      <td>4</td>\n",
              "      <td>2.5</td>\n",
              "      <td>----</td>\n",
              "      <td>----</td>\n",
              "    </tr>\n",
              "    <tr>\n",
              "      <th>11</th>\n",
              "      <td>EDTV</td>\n",
              "      <td>atividade</td>\n",
              "      <td>2020-11-30</td>\n",
              "      <td>4</td>\n",
              "      <td>2.5</td>\n",
              "      <td>----</td>\n",
              "      <td>----</td>\n",
              "    </tr>\n",
              "    <tr>\n",
              "      <th>12</th>\n",
              "      <td>EDTV</td>\n",
              "      <td>atividade</td>\n",
              "      <td>2020-11-30</td>\n",
              "      <td>4</td>\n",
              "      <td>2.5</td>\n",
              "      <td>----</td>\n",
              "      <td>----</td>\n",
              "    </tr>\n",
              "    <tr>\n",
              "      <th>13</th>\n",
              "      <td>EDTV</td>\n",
              "      <td>atividade</td>\n",
              "      <td>2020-11-30</td>\n",
              "      <td>4</td>\n",
              "      <td>2.5</td>\n",
              "      <td>----</td>\n",
              "      <td>----</td>\n",
              "    </tr>\n",
              "    <tr>\n",
              "      <th>14</th>\n",
              "      <td>EDTV</td>\n",
              "      <td>atividade</td>\n",
              "      <td>2020-11-30</td>\n",
              "      <td>4</td>\n",
              "      <td>2.5</td>\n",
              "      <td>----</td>\n",
              "      <td>----</td>\n",
              "    </tr>\n",
              "    <tr>\n",
              "      <th>15</th>\n",
              "      <td>EDTV</td>\n",
              "      <td>atividade</td>\n",
              "      <td>2020-11-30</td>\n",
              "      <td>4</td>\n",
              "      <td>2.5</td>\n",
              "      <td>----</td>\n",
              "      <td>----</td>\n",
              "    </tr>\n",
              "    <tr>\n",
              "      <th>16</th>\n",
              "      <td>EDTV</td>\n",
              "      <td>atividade</td>\n",
              "      <td>2020-11-30</td>\n",
              "      <td>4</td>\n",
              "      <td>2.5</td>\n",
              "      <td>----</td>\n",
              "      <td>----</td>\n",
              "    </tr>\n",
              "    <tr>\n",
              "      <th>17</th>\n",
              "      <td>EDTV</td>\n",
              "      <td>atividade</td>\n",
              "      <td>2020-11-30</td>\n",
              "      <td>4</td>\n",
              "      <td>2.5</td>\n",
              "      <td>----</td>\n",
              "      <td>----</td>\n",
              "    </tr>\n",
              "    <tr>\n",
              "      <th>18</th>\n",
              "      <td>EDTV</td>\n",
              "      <td>atividade</td>\n",
              "      <td>2020-11-30</td>\n",
              "      <td>4</td>\n",
              "      <td>2.5</td>\n",
              "      <td>----</td>\n",
              "      <td>----</td>\n",
              "    </tr>\n",
              "    <tr>\n",
              "      <th>19</th>\n",
              "      <td>EDTV</td>\n",
              "      <td>atividade</td>\n",
              "      <td>2020-11-30</td>\n",
              "      <td>4</td>\n",
              "      <td>2.5</td>\n",
              "      <td>----</td>\n",
              "      <td>----</td>\n",
              "    </tr>\n",
              "    <tr>\n",
              "      <th>20</th>\n",
              "      <td>BM</td>\n",
              "      <td>lista</td>\n",
              "      <td>2020-11-30</td>\n",
              "      <td>5</td>\n",
              "      <td>3.0</td>\n",
              "      <td>✅</td>\n",
              "      <td>2</td>\n",
              "    </tr>\n",
              "    <tr>\n",
              "      <th>21</th>\n",
              "      <td>BCC</td>\n",
              "      <td>prova</td>\n",
              "      <td>2020-12-14</td>\n",
              "      <td>3</td>\n",
              "      <td>2.0</td>\n",
              "      <td>----</td>\n",
              "      <td>----</td>\n",
              "    </tr>\n",
              "  </tbody>\n",
              "</table>\n",
              "</div>"
            ],
            "text/plain": [
              "   disciplina                              nome  ... Feito  Horas Reais\n",
              "0        EDTV                    auto-avaliacao  ...  ----         ----\n",
              "1        EDTV                        ativiade 2  ...  ----         ----\n",
              "2          EM                         testes 10  ...     ✅         ----\n",
              "3         BCE                       prova final  ...  ----         ----\n",
              "4        EDTV  trabalho - divulgacao cientifica  ...  ----         ----\n",
              "5         BCC                         atividade  ...     ✅            3\n",
              "6         BCC                         atividade  ...     ✅         ----\n",
              "7         BCC                         atividade  ...  ----         ----\n",
              "8        EDTV                         atividade  ...  ----         ----\n",
              "9        EDTV                         atividade  ...  ----         ----\n",
              "10       EDTV                         atividade  ...  ----         ----\n",
              "11       EDTV                         atividade  ...  ----         ----\n",
              "12       EDTV                         atividade  ...  ----         ----\n",
              "13       EDTV                         atividade  ...  ----         ----\n",
              "14       EDTV                         atividade  ...  ----         ----\n",
              "15       EDTV                         atividade  ...  ----         ----\n",
              "16       EDTV                         atividade  ...  ----         ----\n",
              "17       EDTV                         atividade  ...  ----         ----\n",
              "18       EDTV                         atividade  ...  ----         ----\n",
              "19       EDTV                         atividade  ...  ----         ----\n",
              "20         BM                             lista  ...     ✅            2\n",
              "21        BCC                             prova  ...  ----         ----\n",
              "\n",
              "[22 rows x 7 columns]"
            ]
          },
          "metadata": {
            "tags": []
          }
        }
      ]
    },
    {
      "cell_type": "markdown",
      "metadata": {
        "id": "h-7qfIW5hana"
      },
      "source": [
        "\n",
        "**⬆️ Agora, se voltar lá em cima, a lista vai ser atualizada e as horas reais e a marcação indicando que essa tarefa já foi concluída ✅ vão estar lá.**"
      ]
    },
    {
      "cell_type": "markdown",
      "metadata": {
        "id": "BLzjtaWqWtWi"
      },
      "source": [
        "## Relatório Semanal  📊 \n",
        "\n",
        "No fim da semana, depois de registrar todas as horas reais para a realização de cada tarefas, temos informações suficientes para gerar dois gráficos. \n",
        "\n",
        "\n",
        "📊 O **primeiro gráfico** mostrará uma comparação entre o total de horas que foram inicialmente estimadas pelo o programa que o estudante iria gastar em cada disciplina na semana, o total de horas que realmente foram gastos nessa mesma disciplina e mais a sua I(horas de estudos individuais por semana) da TPI.\n"
      ]
    },
    {
      "cell_type": "code",
      "metadata": {
        "id": "COMWr26JP2GL",
        "colab": {
          "base_uri": "https://localhost:8080/",
          "height": 313
        },
        "outputId": "f457b968-5de4-4d01-d1cc-84edb3d76e29"
      },
      "source": [
        "dft_somahorX = dft_ordemR.groupby('disciplina').sum()\n",
        "dft_somahorX['I'] = dfd_ordenados['I'].values\n",
        "dft_somahorX.plot.bar(y=['Horas Reais','horas', 'I'],color=['orange', 'pink', 'green'])"
      ],
      "execution_count": null,
      "outputs": [
        {
          "output_type": "execute_result",
          "data": {
            "text/plain": [
              "<matplotlib.axes._subplots.AxesSubplot at 0x7f26a484d860>"
            ]
          },
          "metadata": {
            "tags": []
          },
          "execution_count": 11
        },
        {
          "output_type": "display_data",
          "data": {
            "image/png": "[encoded data removed]",
            "text/plain": [
              "<Figure size 432x288 with 1 Axes>"
            ]
          },
          "metadata": {
            "tags": [],
            "needs_background": "light"
          }
        }
      ]
    },
    {
      "cell_type": "markdown",
      "metadata": {
        "id": "AibpQKb-YX0o"
      },
      "source": [
        "📊 Já o **segundo gráfico**, gera a mesma comparação, mas agora voltado para as tarefas. Desse modo, o histograma mostra as horas estimadas e as horas reais utilizadas para a realização de cada tarefa."
      ]
    },
    {
      "cell_type": "code",
      "metadata": {
        "id": "Z22MY9NYfWAG",
        "colab": {
          "base_uri": "https://localhost:8080/",
          "height": 482
        },
        "outputId": "7115b4f3-e5dd-4a0e-f723-5bdbc9257b49"
      },
      "source": [
        "dft_ordenados = dft_ordemR.sort_values(by ='disciplina')\n",
        "dft_tar = dft_ordenados.groupby(['disciplina', 'nome']).sum()\n",
        "dft_tar.plot.bar(y=['Horas Reais','horas'],color=['orange', 'pink'])"
      ],
      "execution_count": null,
      "outputs": [
        {
          "output_type": "execute_result",
          "data": {
            "text/plain": [
              "<matplotlib.axes._subplots.AxesSubplot at 0x7f26a4752c18>"
            ]
          },
          "metadata": {
            "tags": []
          },
          "execution_count": 12
        },
        {
          "output_type": "display_data",
          "data": {
            "image/png": "[encoded data removed]",
            "text/plain": [
              "<Figure size 432x288 with 1 Axes>"
            ]
          },
          "metadata": {
            "tags": [],
            "needs_background": "light"
          }
        }
      ]
    },
    {
      "cell_type": "markdown",
      "metadata": {
        "id": "Db78WkhtZtvo"
      },
      "source": [
        "\n",
        "⌛️ Dessa forma, fica mais fácil de visualizar o tanto de tempo usado durante essa semana para a dedicação em cada disciplina e para cada tarefa.\n"
      ]
    },
    {
      "cell_type": "markdown",
      "metadata": {
        "id": "Y-ygjJnY-h4l"
      },
      "source": [
        "Assim, por esse programa, será possível acompanhar sua trajetória acadêmica de uma forma muito mais fácil e eficiente. O tempo que você levaria pensando em como organizar suas tarefas poderá ser economizado para que você use dedicando-se a elas.\n",
        "Desse modo, tudo que você precisa fazer é entrar no programa e deixar que ele faça esse trabalho a mais para você.\n",
        "\n",
        "📝 E agora já ficou mais fácil montar um cronograma semanal? 😉"
      ]
    }
  ]
}